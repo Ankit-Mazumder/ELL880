{
 "cells": [
  {
   "cell_type": "code",
   "execution_count": 1,
   "metadata": {},
   "outputs": [],
   "source": [
    "import torch\n",
    "import torch.nn as nn\n",
    "import torch.nn.functional as F\n",
    "from torch.utils.data import Dataset\n",
    "#from torch_geometric.loader import DataLoader \n",
    "import numpy as np\n",
    "from sklearn.preprocessing import LabelEncoder\n",
    "from torch_geometric.nn import GCNConv\n",
    "import pandas as pd\n",
    "import ast\n",
    "import torch\n",
    "from torch.nn import Module, Linear\n",
    "import torch\n",
    "from torch.utils.data import Dataset, DataLoader\n",
    "from torch.nn import Module, Linear\n",
    "import numpy as np\n",
    "import torch\n",
    "import torch.nn as nn\n",
    "from torch_geometric.nn import GCNConv\n",
    "from torch.nn import Module, Linear\n",
    "from torch.utils.data import Dataset, DataLoader\n",
    "import torch.optim as optim\n",
    "import torch.nn.functional as F\n",
    "import random\n",
    "import math\n",
    "import pickle\n",
    "import torch.optim.lr_scheduler as lr_scheduler\n",
    "import matplotlib.pyplot as plt\n",
    "from sklearn.metrics import confusion_matrix\n",
    "from sklearn.metrics import f1_score\n",
    "import seaborn as sns\n",
    "import matplotlib\n",
    "import time\n",
    "from torch_geometric.nn import GraphSAGE\n",
    "matplotlib.use('Agg')"
   ]
  },
  {
   "cell_type": "code",
   "execution_count": 2,
   "metadata": {},
   "outputs": [],
   "source": [
    "df = pd.read_csv('/home/scai/msr/aiy227513/scratch/research/superSetAnalysis.csv')"
   ]
  },
  {
   "cell_type": "code",
   "execution_count": 3,
   "metadata": {},
   "outputs": [],
   "source": [
    "node_ids =[]\n",
    "node_features = []\n",
    "req_A=['citationVelocity', 'influentialCitationCount', 'isOpenAccess',\n",
    "       'isPublisherLicence', 'numCitebBy', 'numCiting','year']\n",
    "for index, row in df.iterrows():\n",
    "    paperId = row['paperId']\n",
    "    node_ids.append(paperId)\n",
    "    f=[]\n",
    "    for attribute in req_A:\n",
    "            if attribute==\"isOpenAccess\":\n",
    "             if row[attribute]==True:attribute_value=1\n",
    "             else:attribute_value=0\n",
    "            elif attribute==\"isPublisherLicence\":\n",
    "              if row[attribute]==True:attribute_value=1\n",
    "              else:attribute_value=0\n",
    "            else:\n",
    "               attribute_value = row[attribute]\n",
    "            f.append(attribute_value)\n",
    "    node_features.append(np.array(f).astype(np.float32))"
   ]
  },
  {
   "cell_type": "code",
   "execution_count": null,
   "metadata": {},
   "outputs": [],
   "source": [
    "with open(\"/home/scai/msr/aiy227513/scratch/research/edges_same_ratio.pickle\", \"rb\") as file:\n",
    "    edges = pickle.load(file)\n",
    "    file.close()"
   ]
  }
 ],
 "metadata": {
  "kernelspec": {
   "display_name": "gnn",
   "language": "python",
   "name": "python3"
  },
  "language_info": {
   "codemirror_mode": {
    "name": "ipython",
    "version": 3
   },
   "file_extension": ".py",
   "mimetype": "text/x-python",
   "name": "python",
   "nbconvert_exporter": "python",
   "pygments_lexer": "ipython3",
   "version": "3.11.4"
  }
 },
 "nbformat": 4,
 "nbformat_minor": 2
}
